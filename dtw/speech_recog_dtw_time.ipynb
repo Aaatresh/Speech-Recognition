{
 "cells": [
  {
   "cell_type": "markdown",
   "metadata": {},
   "source": [
    "## Speech recognition using MFCC and DTW\n",
    "\n",
    "In this experiment, mfcc vectors are extracted from the audio signals and are compared using DTW (euclidean distance). Here, it has been assumed that a single audio recording for each word has been stored in a database of the speech recognition system. In this demonstration, a single word, \"go\"(go1.wav) has been stored. This is compared against the audio recording.\n",
    "\n",
    "A proof of concept has been demonstrated in \"./dtw_mfcc.ipynb\"."
   ]
  },
  {
   "cell_type": "code",
   "execution_count": null,
   "metadata": {},
   "outputs": [],
   "source": [
    "## Importing necessary libraries\n",
    "\n",
    "from fastdtw import fastdtw as dtw\n",
    "from scipy.spatial.distance import euclidean\n",
    "import numpy as np\n",
    "from scipy.io import wavfile as wav\n",
    "import IPython.display as ipd"
   ]
  },
  {
   "cell_type": "code",
   "execution_count": null,
   "metadata": {},
   "outputs": [],
   "source": [
    "## load first audio file. This is the pre loaded audio file used for comparison for the word \"go\"\n",
    "\n",
    "fs,go1 = wav.read(\"go1.wav\")"
   ]
  },
  {
   "cell_type": "code",
   "execution_count": null,
   "metadata": {},
   "outputs": [],
   "source": [
    "## load second audio file\n",
    "\n",
    "fs,go2 = wav.read(\"go2.wav\")"
   ]
  },
  {
   "cell_type": "code",
   "execution_count": null,
   "metadata": {},
   "outputs": [],
   "source": [
    "## load third audio file\n",
    "\n",
    "fs,right1 = wav.read(\"right1.wav\")"
   ]
  },
  {
   "cell_type": "markdown",
   "metadata": {},
   "source": [
    "### Play the audio files "
   ]
  },
  {
   "cell_type": "code",
   "execution_count": null,
   "metadata": {},
   "outputs": [],
   "source": [
    "ipd.Audio(\"go1.wav\")"
   ]
  },
  {
   "cell_type": "code",
   "execution_count": null,
   "metadata": {},
   "outputs": [],
   "source": [
    "ipd.Audio(\"go2.wav\")"
   ]
  },
  {
   "cell_type": "code",
   "execution_count": null,
   "metadata": {},
   "outputs": [],
   "source": [
    "ipd.Audio(\"right1.wav\")"
   ]
  },
  {
   "cell_type": "code",
   "execution_count": null,
   "metadata": {},
   "outputs": [],
   "source": [
    "## Normalize the audio sequences\n",
    "\n",
    "go1 = ((go1 - go1.min()) / (go1.max() - go1.min()))\n",
    "go2 = ((go2 - go2.min()) / (go2.max() - go2.min()))\n",
    "right1 = ((right1 - right1.min()) / (right1.max() - right1.min()))"
   ]
  },
  {
   "cell_type": "code",
   "execution_count": null,
   "metadata": {},
   "outputs": [],
   "source": [
    "## calculate their euclidean DTW distance\n",
    "\n",
    "dist1,_ = dtw(go1,go2,dist = euclidean)\n",
    "print(dist)"
   ]
  },
  {
   "cell_type": "code",
   "execution_count": null,
   "metadata": {},
   "outputs": [],
   "source": [
    "## calculate their euclidean DTW distance\n",
    "\n",
    "dist2,_ = dtw(go1,right1,dist = euclidean)\n",
    "print(dist)"
   ]
  },
  {
   "cell_type": "code",
   "execution_count": null,
   "metadata": {},
   "outputs": [],
   "source": [
    "## set a threshold for comparison\n",
    "\n",
    "thresh = 1000"
   ]
  },
  {
   "cell_type": "markdown",
   "metadata": {},
   "source": [
    "### Compare the distances with the threshold\n",
    "\n",
    "**logic**: \n",
    "\n",
    "    if(thresh > DTW_distance) then word_spoken = \"go\"\n",
    "    \n",
    "    else \n",
    "    \n",
    "        word_spoken != \"go\" "
   ]
  },
  {
   "cell_type": "code",
   "execution_count": null,
   "metadata": {},
   "outputs": [],
   "source": [
    "if(dist1 < thresh):\n",
    "    word_spoken_go = True\n",
    "    print(\"word spoken is go\")\n",
    "else:\n",
    "    word_spoken_go = False\n",
    "    print(\"word spoken is not go\")"
   ]
  },
  {
   "cell_type": "code",
   "execution_count": null,
   "metadata": {},
   "outputs": [],
   "source": [
    "if(dist2 < thresh):\n",
    "    word_spoken_go = True\n",
    "    print(\"word spoken is go\")\n",
    "else:\n",
    "    word_spoken_go = False\n",
    "    print(\"word spoken is not go\")"
   ]
  }
 ],
 "metadata": {
  "kernelspec": {
   "display_name": "Python 3",
   "language": "python",
   "name": "python3"
  },
  "language_info": {
   "codemirror_mode": {
    "name": "ipython",
    "version": 3
   },
   "file_extension": ".py",
   "mimetype": "text/x-python",
   "name": "python",
   "nbconvert_exporter": "python",
   "pygments_lexer": "ipython3",
   "version": "3.6.9"
  }
 },
 "nbformat": 4,
 "nbformat_minor": 2
}
