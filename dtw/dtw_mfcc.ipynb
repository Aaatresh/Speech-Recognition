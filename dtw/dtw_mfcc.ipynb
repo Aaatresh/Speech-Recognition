{
 "cells": [
  {
   "cell_type": "markdown",
   "metadata": {},
   "source": [
    "## Test of concept\n",
    "\n",
    "Here mel frequency cepstral coefficients are extracted from two audio files, and they are compared using dynamic time warping"
   ]
  },
  {
   "cell_type": "code",
   "execution_count": 1,
   "metadata": {},
   "outputs": [],
   "source": [
    "## Importing necessary libraries\n",
    "\n",
    "from fastdtw import fastdtw as dtw\n",
    "import numpy as np\n",
    "from scipy.io import wavfile as wav\n",
    "import matplotlib.pyplot as plt\n",
    "from scipy.spatial.distance import euclidean\n",
    "import IPython.display as ipd\n",
    "\n",
    "import python_speech_features as psf"
   ]
  },
  {
   "cell_type": "code",
   "execution_count": 69,
   "metadata": {},
   "outputs": [],
   "source": [
    "## reading two audio files\n",
    "\n",
    "fs1,x1 = wav.read(\"./data/stop2.wav\")\n",
    "fs2,x2 = wav.read(\"./data/stop1.wav\")"
   ]
  },
  {
   "cell_type": "code",
   "execution_count": 70,
   "metadata": {},
   "outputs": [],
   "source": [
    "## Zero padding and extracting mfcc from two audio sequences\n",
    "\n",
    "l1 = len(x1)\n",
    "l2 = len(x2)\n",
    "\n",
    "if(l1 > l2):\n",
    "    x2 = np.hstack((x2,np.zeros((l1 - l2,))))\n",
    "else:\n",
    "    x1 = np.hstack((x1,np.zeros((l2 - l1,))))\n",
    "\n",
    "x1_mfcc = psf.mfcc(x1,fs1)\n",
    "x2_mfcc = psf.mfcc(x2,fs2)"
   ]
  },
  {
   "cell_type": "code",
   "execution_count": 71,
   "metadata": {},
   "outputs": [
    {
     "name": "stdout",
     "output_type": "stream",
     "text": [
      "4667.425036574689\n"
     ]
    }
   ],
   "source": [
    "## find distance between them using DTW\n",
    "\n",
    "dist,_ = dtw(x1_mfcc,x2_mfcc,dist = euclidean)\n",
    "print(dist)"
   ]
  }
 ],
 "metadata": {
  "kernelspec": {
   "display_name": "Python 3",
   "language": "python",
   "name": "python3"
  },
  "language_info": {
   "codemirror_mode": {
    "name": "ipython",
    "version": 3
   },
   "file_extension": ".py",
   "mimetype": "text/x-python",
   "name": "python",
   "nbconvert_exporter": "python",
   "pygments_lexer": "ipython3",
   "version": "3.6.9"
  }
 },
 "nbformat": 4,
 "nbformat_minor": 2
}
